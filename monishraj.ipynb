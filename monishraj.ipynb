{
  "nbformat": 4,
  "nbformat_minor": 0,
  "metadata": {
    "colab": {
      "provenance": []
    },
    "kernelspec": {
      "name": "python3",
      "display_name": "Python 3"
    },
    "language_info": {
      "name": "python"
    }
  },
  "cells": [
    {
      "cell_type": "code",
      "execution_count": 14,
      "metadata": {
        "id": "A1AfMz21TdsX"
      },
      "outputs": [],
      "source": [
        "import pandas as pd\n",
        "import numpy as np\n",
        "import matplotlib.pyplot as plt\n",
        "import sklearn\n",
        "\n",
        "# Import necessary modules\n",
        "from sklearn.model_selection import train_test_split\n",
        "from sklearn.metrics import mean_squared_error, accuracy_score\n",
        "from math import sqrt\n",
        "\n",
        "# Keras specific\n",
        "import keras\n",
        "from keras.models import Sequential\n",
        "from keras.layers import Dense\n",
        "from keras.utils import to_categorical"
      ]
    },
    {
      "cell_type": "markdown",
      "source": [
        "###**Using Deeplearning to predict heart attacks**"
      ],
      "metadata": {
        "id": "zF_vvYXpdmuB"
      }
    },
    {
      "cell_type": "code",
      "source": [
        "mainDataset = pd.read_csv('/content/drive/MyDrive/datasetsAgile/heart.csv')\n",
        "dataSet = mainDataset.drop('target', axis=1)\n",
        "target = mainDataset['target']\n",
        "len(target)"
      ],
      "metadata": {
        "colab": {
          "base_uri": "https://localhost:8080/"
        },
        "id": "XDUKnss4VASo",
        "outputId": "e795374e-2bb3-4e36-b6a6-860eaa32b6b4"
      },
      "execution_count": 10,
      "outputs": [
        {
          "output_type": "execute_result",
          "data": {
            "text/plain": [
              "1025"
            ]
          },
          "metadata": {},
          "execution_count": 10
        }
      ]
    },
    {
      "cell_type": "markdown",
      "source": [
        "####Splitting the data into training and testing"
      ],
      "metadata": {
        "id": "sg7RZZXqd9U_"
      }
    },
    {
      "cell_type": "code",
      "source": [
        "x_train,x_test,y_train,y_test = train_test_split(dataSet, target, test_size=0.3, random_state=42)"
      ],
      "metadata": {
        "id": "Gf3LnGUTVNGh"
      },
      "execution_count": 3,
      "outputs": []
    },
    {
      "cell_type": "markdown",
      "source": [
        "####Defining the learning model"
      ],
      "metadata": {
        "id": "8tYua7QEleG-"
      }
    },
    {
      "cell_type": "code",
      "source": [
        "model = Sequential()\n",
        "\n",
        "model.add(Dense(500, activation='sigmoid', input_dim=13))\n",
        "model.add(Dense(100, activation='sigmoid'))\n",
        "model.add(Dense(25, activation='sigmoid'))\n",
        "model.add(Dense(25, activation='sigmoid'))\n",
        "model.add(Dense(20, activation='sigmoid'))\n",
        "model.add(Dense(1, activation='sigmoid'))\n",
        "model.add(Dense(1, activation='sigmoid'))"
      ],
      "metadata": {
        "id": "iZEIMkNXk6NL"
      },
      "execution_count": 7,
      "outputs": []
    },
    {
      "cell_type": "markdown",
      "source": [
        "####Compiling the model to make predictions"
      ],
      "metadata": {
        "id": "nQB8ae27mkW2"
      }
    },
    {
      "cell_type": "code",
      "source": [
        "# Compile the model\n",
        "model.compile(optimizer='adam', loss='binary_crossentropy', metrics=['accuracy'])\n",
        "model.fit(x_train,y_train, epochs=250)"
      ],
      "metadata": {
        "id": "ZrY4uyaOmlnW"
      },
      "execution_count": null,
      "outputs": []
    },
    {
      "cell_type": "code",
      "source": [
        "print(model.predict(x_test))"
      ],
      "metadata": {
        "id": "jVh6Qf8imuLh"
      },
      "execution_count": null,
      "outputs": []
    },
    {
      "cell_type": "markdown",
      "source": [
        "###**Using Machine learning to classify heart dataset**"
      ],
      "metadata": {
        "id": "bXJCfWSZWYAI"
      }
    },
    {
      "cell_type": "code",
      "source": [
        "# Please implement Heart Attack using classification algoriths\n",
        "# 1. Decision Tree 2. Random Forest 3. SVM 4. Logistic Regression 5. KNN 6. Naïve Bayes\n",
        "# Tune ML algos for maximum accuracy by changing training and test data size"
      ],
      "metadata": {
        "id": "yuqJYvoaWfOU"
      },
      "execution_count": 11,
      "outputs": []
    },
    {
      "cell_type": "markdown",
      "source": [
        "**Using Decision Tree**"
      ],
      "metadata": {
        "id": "B2ho73JJW_d7"
      }
    },
    {
      "cell_type": "code",
      "source": [
        "from sklearn.tree import DecisionTreeClassifier"
      ],
      "metadata": {
        "id": "1ObJSMmqW7Bg"
      },
      "execution_count": 12,
      "outputs": []
    },
    {
      "cell_type": "code",
      "source": [
        "classifier = DecisionTreeClassifier(random_state=42)\n",
        "classifier.fit(x_train, y_train)\n",
        "predictions = classifier.predict(x_test)\n",
        "accuracy = accuracy_score(y_test, predictions)\n",
        "print(f\"{x_test} : {predictions}\")\n",
        "print(f\"Accuracy : {accuracy}\")"
      ],
      "metadata": {
        "id": "vigPMf3nXwJ-"
      },
      "execution_count": null,
      "outputs": []
    },
    {
      "cell_type": "code",
      "source": [
        "from sklearn.tree import plot_tree\n",
        "import matplotlib.pyplot as plt\n",
        "plt.figure(figsize=(60, 20))\n",
        "plot_tree(classifier, filled=True, feature_names=dataSet.columns, class_names=True)\n",
        "plt.show()"
      ],
      "metadata": {
        "id": "_e02qcEaZBnn"
      },
      "execution_count": null,
      "outputs": []
    },
    {
      "cell_type": "markdown",
      "source": [
        "**Using Random forest**"
      ],
      "metadata": {
        "id": "vH0pGM6BZ6C-"
      }
    },
    {
      "cell_type": "code",
      "source": [
        "from sklearn.ensemble import RandomForestClassifier"
      ],
      "metadata": {
        "id": "FVSu-HDbZbqp"
      },
      "execution_count": 19,
      "outputs": []
    },
    {
      "cell_type": "code",
      "source": [
        "randomForest = RandomForestClassifier(n_estimators=100, random_state=42)\n",
        "randomForest.fit(x_train, y_train)"
      ],
      "metadata": {
        "id": "cHN_QJjoZ-E4"
      },
      "execution_count": null,
      "outputs": []
    },
    {
      "cell_type": "code",
      "source": [
        "rf_predict = randomForest.predict(x_test)\n",
        "rf_accuracy = accuracy_score(y_test, rf_predict)\n",
        "print(f\"{x_test} : {rf_predict}\")\n",
        "print(f\"Accuracy : {rf_accuracy}\")"
      ],
      "metadata": {
        "id": "EXHu879baVDN"
      },
      "execution_count": null,
      "outputs": []
    },
    {
      "cell_type": "markdown",
      "source": [
        "**Using Support Vector Machines**"
      ],
      "metadata": {
        "id": "bWdMjWhcbR9M"
      }
    },
    {
      "cell_type": "code",
      "source": [
        "from sklearn.svm import SVC"
      ],
      "metadata": {
        "id": "pDKoPYNtbY9p"
      },
      "execution_count": 23,
      "outputs": []
    },
    {
      "cell_type": "code",
      "source": [
        "clf = SVC(kernel='linear', C=1.0, random_state=42)\n",
        "clf.fit(x_train, y_train)\n",
        "\n",
        "svm_predictions = clf.predict(x_test)\n",
        "svm_accuracy = accuracy_score(y_test, svm_predictions)\n",
        "print(f\"{x_test} : {svm_predictions}\")\n",
        "print(f\"Accuracy : {svm_accuracy}\")"
      ],
      "metadata": {
        "id": "07BQfvMHad1N"
      },
      "execution_count": null,
      "outputs": []
    },
    {
      "cell_type": "markdown",
      "source": [
        "**Using KNN(K nearest neighbours)**"
      ],
      "metadata": {
        "id": "up1KUAV4dBHc"
      }
    },
    {
      "cell_type": "code",
      "source": [
        "from sklearn.neighbors import KNeighborsClassifier"
      ],
      "metadata": {
        "id": "UWBMdfp4cZUk"
      },
      "execution_count": 31,
      "outputs": []
    },
    {
      "cell_type": "code",
      "source": [
        "knn_model = KNeighborsClassifier(n_neighbors=3)\n",
        "knn_model.fit(x_train, y_train)\n",
        "\n",
        "knn_pred = knn_model.predict(x_test)\n",
        "knn_accuracy = accuracy_score(y_test, knn_pred)\n",
        "\n",
        "print(f\"{x_test} : {knn_pred}\")\n",
        "print(f\"Accuracy : {knn_accuracy}\")"
      ],
      "metadata": {
        "id": "XcNdX0hXdYlq"
      },
      "execution_count": null,
      "outputs": []
    },
    {
      "cell_type": "markdown",
      "source": [
        "**Using Logistic Regression**"
      ],
      "metadata": {
        "id": "VZpV2MqEd2VP"
      }
    },
    {
      "cell_type": "code",
      "source": [
        "from sklearn.linear_model import LogisticRegression"
      ],
      "metadata": {
        "id": "As0k2Ss6dzPe"
      },
      "execution_count": 37,
      "outputs": []
    },
    {
      "cell_type": "code",
      "source": [
        "lr_model = LogisticRegression(random_state=42)\n",
        "lr_model.fit(x_train, y_train)\n",
        "\n",
        "lr_pred = lr_model.predict(x_test)\n",
        "lr_accuracy = accuracy_score(y_test, lr_pred)\n",
        "\n",
        "print(f\"{x_test} : {lr_pred}\")\n",
        "print(f\"Accuracy : {lr_accuracy}\")"
      ],
      "metadata": {
        "id": "XDnzZp0_eVJq"
      },
      "execution_count": null,
      "outputs": []
    },
    {
      "cell_type": "markdown",
      "source": [
        "**Using Naive Bayes**"
      ],
      "metadata": {
        "id": "QBJUpVBrfCiC"
      }
    },
    {
      "cell_type": "code",
      "source": [
        "from sklearn.feature_extraction.text import CountVectorizer\n",
        "from sklearn.naive_bayes import MultinomialNB"
      ],
      "metadata": {
        "id": "mDboxx93eb_j"
      },
      "execution_count": 40,
      "outputs": []
    },
    {
      "cell_type": "code",
      "source": [
        "vectors = CountVectorizer()\n",
        "X = vectors.fit_transform(dataSet)\n",
        "\n",
        "\n",
        "nvb = MultinomialNB()\n",
        "nvb.fit(x_train, y_train)\n",
        "\n",
        "nvb_pred = nvb.predict(x_test)\n",
        "nvb_accuracy = accuracy_score(y_test, nvb_pred)\n",
        "\n",
        "print(f\"{x_test} : {nvb_pred}\")\n",
        "print(f\"Accuracy : {nvb_accuracy}\")"
      ],
      "metadata": {
        "colab": {
          "base_uri": "https://localhost:8080/"
        },
        "id": "kz_0v4IafNrG",
        "outputId": "e1c8182d-228a-4cf7-917b-1b966e3af5ea"
      },
      "execution_count": 41,
      "outputs": [
        {
          "output_type": "stream",
          "name": "stdout",
          "text": [
            "     age  sex  cp  trestbps  chol  fbs  restecg  thalach  exang  oldpeak  \\\n",
            "527   62    0   0       124   209    0        1      163      0      0.0   \n",
            "359   53    0   2       128   216    0        0      115      0      0.0   \n",
            "447   55    1   0       160   289    0        0      145      1      0.8   \n",
            "31    50    0   1       120   244    0        1      162      0      1.1   \n",
            "621   48    1   0       130   256    1        0      150      1      0.0   \n",
            "..   ...  ...  ..       ...   ...  ...      ...      ...    ...      ...   \n",
            "668   29    1   1       130   204    0        0      202      0      0.0   \n",
            "239   62    0   0       150   244    0        1      154      1      1.4   \n",
            "312   70    1   2       160   269    0        1      112      1      2.9   \n",
            "211   67    1   0       100   299    0        0      125      1      0.9   \n",
            "861   64    1   2       140   335    0        1      158      0      0.0   \n",
            "\n",
            "     slope  ca  thal  \n",
            "527      2   0     2  \n",
            "359      2   0     0  \n",
            "447      1   1     3  \n",
            "31       2   0     2  \n",
            "621      2   2     3  \n",
            "..     ...  ..   ...  \n",
            "668      2   0     2  \n",
            "239      1   0     2  \n",
            "312      1   1     3  \n",
            "211      1   2     2  \n",
            "861      2   0     2  \n",
            "\n",
            "[308 rows x 13 columns] : [1 1 0 1 0 0 0 0 1 0 1 0 1 1 0 1 0 1 1 0 0 0 0 0 0 1 1 1 0 1 0 0 1 1 1 1 0\n",
            " 0 1 1 0 0 1 0 0 0 0 1 1 0 0 0 1 0 1 1 0 0 1 1 1 0 0 0 0 1 1 0 0 1 1 0 1 1\n",
            " 1 1 0 0 1 1 1 1 0 0 0 0 1 0 1 1 1 0 1 1 1 1 0 0 0 0 0 0 1 1 0 0 0 1 1 1 1\n",
            " 1 1 0 1 1 1 1 1 0 0 1 0 0 0 0 1 1 1 0 0 0 1 0 0 1 0 1 1 1 1 1 1 0 0 1 0 1\n",
            " 0 0 1 0 1 1 0 0 1 0 0 0 1 0 0 0 0 0 0 0 0 1 1 1 0 0 1 1 1 0 1 1 1 0 1 1 0\n",
            " 1 1 1 1 1 1 1 1 1 0 0 1 0 1 1 0 1 1 0 1 1 0 1 1 1 1 0 1 1 0 0 0 0 1 0 1 0\n",
            " 0 1 1 1 1 0 0 0 1 0 1 1 0 0 1 0 1 1 0 0 1 0 0 1 0 0 0 0 1 0 0 0 0 1 0 1 0\n",
            " 1 0 0 0 0 0 0 0 1 0 1 0 0 0 0 0 1 1 0 1 1 0 0 1 0 1 0 1 0 0 1 0 1 1 1 0 0\n",
            " 1 0 1 1 1 0 1 1 0 0 0 0]\n",
            "Accuracy : 0.7012987012987013\n"
          ]
        }
      ]
    },
    {
      "cell_type": "code",
      "source": [],
      "metadata": {
        "id": "7HZYEfn8f4oz"
      },
      "execution_count": null,
      "outputs": []
    }
  ]
}